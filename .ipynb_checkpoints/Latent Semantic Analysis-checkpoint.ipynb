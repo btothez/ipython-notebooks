{
 "cells": [
  {
   "cell_type": "code",
   "execution_count": 1,
   "metadata": {
    "collapsed": false,
    "scrolled": false
   },
   "outputs": [
    {
     "ename": "NameError",
     "evalue": "global name 'line' is not defined",
     "output_type": "error",
     "traceback": [
      "\u001b[0;31m---------------------------------------------------------------------------\u001b[0m",
      "\u001b[0;31mNameError\u001b[0m                                 Traceback (most recent call last)",
      "\u001b[0;32m<ipython-input-1-9b911129b40c>\u001b[0m in \u001b[0;36m<module>\u001b[0;34m()\u001b[0m\n\u001b[1;32m     36\u001b[0m         \u001b[0;32melif\u001b[0m \u001b[0;32mnot\u001b[0m \u001b[0many\u001b[0m\u001b[0;34m(\u001b[0m\u001b[0mroom_str\u001b[0m \u001b[0;32min\u001b[0m \u001b[0mline\u001b[0m \u001b[0;32mfor\u001b[0m \u001b[0mroom_str\u001b[0m \u001b[0;32min\u001b[0m \u001b[0mroom_strs\u001b[0m\u001b[0;34m)\u001b[0m \u001b[0;32mand\u001b[0m \u001b[0;34m', 2015'\u001b[0m \u001b[0;32mnot\u001b[0m \u001b[0;32min\u001b[0m \u001b[0mline\u001b[0m \u001b[0;32mand\u001b[0m \u001b[0mname\u001b[0m \u001b[0;32mis\u001b[0m \u001b[0;32mnot\u001b[0m \u001b[0mNone\u001b[0m\u001b[0;34m:\u001b[0m\u001b[0;34m\u001b[0m\u001b[0m\n\u001b[1;32m     37\u001b[0m             \u001b[0;31m#print \"{} -- {}\".format(day_index, line)\u001b[0m\u001b[0;34m\u001b[0m\u001b[0;34m\u001b[0m\u001b[0m\n\u001b[0;32m---> 38\u001b[0;31m             \u001b[0mdocs\u001b[0m\u001b[0;34m[\u001b[0m\u001b[0mname\u001b[0m\u001b[0;34m]\u001b[0m\u001b[0;34m.\u001b[0m\u001b[0mappend\u001b[0m\u001b[0;34m(\u001b[0m\u001b[0mhlp\u001b[0m\u001b[0;34m.\u001b[0m\u001b[0mprettify\u001b[0m\u001b[0;34m(\u001b[0m\u001b[0mline\u001b[0m\u001b[0;34m)\u001b[0m\u001b[0;34m)\u001b[0m\u001b[0;34m\u001b[0m\u001b[0m\n\u001b[0m\u001b[1;32m     39\u001b[0m \u001b[0;34m\u001b[0m\u001b[0m\n\u001b[1;32m     40\u001b[0m \u001b[0;34m\u001b[0m\u001b[0m\n",
      "\u001b[0;32m/Applications/MAMP/htdocs/ipython-notebooks/packages/helpers.py\u001b[0m in \u001b[0;36mprettify\u001b[0;34m(str)\u001b[0m\n\u001b[1;32m     10\u001b[0m     \u001b[0mstr\u001b[0m \u001b[0;34m=\u001b[0m \u001b[0;34m''\u001b[0m\u001b[0;34m.\u001b[0m\u001b[0mjoin\u001b[0m\u001b[0;34m(\u001b[0m\u001b[0mch\u001b[0m \u001b[0;32mfor\u001b[0m \u001b[0mch\u001b[0m \u001b[0;32min\u001b[0m \u001b[0mstr\u001b[0m \u001b[0;32mif\u001b[0m \u001b[0mch\u001b[0m \u001b[0;32mnot\u001b[0m \u001b[0;32min\u001b[0m \u001b[0mstring\u001b[0m\u001b[0;34m.\u001b[0m\u001b[0mpunctuation\u001b[0m\u001b[0;34m)\u001b[0m\u001b[0;34m\u001b[0m\u001b[0m\n\u001b[1;32m     11\u001b[0m     \u001b[0mstr\u001b[0m \u001b[0;34m=\u001b[0m \u001b[0mstr\u001b[0m\u001b[0;34m.\u001b[0m\u001b[0mlower\u001b[0m\u001b[0;34m(\u001b[0m\u001b[0;34m)\u001b[0m\u001b[0;34m\u001b[0m\u001b[0m\n\u001b[0;32m---> 12\u001b[0;31m     \u001b[0;34m' '\u001b[0m\u001b[0;34m.\u001b[0m\u001b[0mjoin\u001b[0m\u001b[0;34m(\u001b[0m\u001b[0;34m[\u001b[0m\u001b[0mstem\u001b[0m\u001b[0;34m(\u001b[0m\u001b[0mx\u001b[0m\u001b[0;34m)\u001b[0m \u001b[0;32mfor\u001b[0m \u001b[0mx\u001b[0m \u001b[0;32min\u001b[0m \u001b[0mline\u001b[0m\u001b[0;34m.\u001b[0m\u001b[0msplit\u001b[0m\u001b[0;34m(\u001b[0m\u001b[0;34m)\u001b[0m\u001b[0;34m]\u001b[0m\u001b[0;34m)\u001b[0m\u001b[0;34m\u001b[0m\u001b[0m\n\u001b[0m\u001b[1;32m     13\u001b[0m     \u001b[0;32mreturn\u001b[0m \u001b[0mstr\u001b[0m\u001b[0;34m\u001b[0m\u001b[0m\n",
      "\u001b[0;31mNameError\u001b[0m: global name 'line' is not defined"
     ]
    }
   ],
   "source": [
    "%matplotlib inline\n",
    "import numpy as np\n",
    "from scipy.linalg import svd\n",
    "from sklearn.preprocessing import normalize\n",
    "from scipy.cluster.hierarchy import dendrogram, linkage\n",
    "from matplotlib import pyplot as plt\n",
    "import re\n",
    "import collections\n",
    "import packages.helpers as hlp\n",
    "\n",
    "from IPython.core.pylabtools import figsize\n",
    "from matplotlib import pyplot as plt\n",
    "import pymc as pm\n",
    "\n",
    "names = ['Kris Kroski', 'Eddie VanBogaert', 'Boaz Reisman', 'Brad Siefert', \n",
    "         'Kyle Gilbert', 'Richard Hankison', 'Vladimir Jornitski', 'Rachel Schneebaum',\n",
    "        'Frank Korf', 'Andrew Parnell', 'Andrew Weber']\n",
    "\n",
    "name = None\n",
    "\n",
    "room_strs = ['joined the room', 'left the room']\n",
    "docs = collections.defaultdict(list)\n",
    "day_index = 0\n",
    "index = 0\n",
    "dates = {}\n",
    "date_str = \"\"\n",
    "\n",
    "with open('data/hipchat_room','r') as f:\n",
    "    for line in f:\n",
    "        line = line.strip()\n",
    "        if any(name in line for name in names) and not any(room_str in line for room_str in room_strs):        \n",
    "            try:\n",
    "                name = re.sub(r'\\xc2\\xb7(.*?)$', '', line)\n",
    "            except:\n",
    "                continue\n",
    "        elif not any(room_str in line for room_str in room_strs) and ', 2015' not in line and name is not None:\n",
    "            #print \"{} -- {}\".format(day_index, line)\n",
    "            docs[name].append(hlp.prettify(line))\n",
    "            \n",
    "    \n",
    "\n",
    "#print dates\n",
    "#print len(docs)\n",
    "#indexes = docs.keys()\n",
    "#chat_count = [len(docs[i]) for i in range(indexes[0], indexes[len(indexes) - 1])]\n",
    "#lines = docs['Brad Siefert']\n",
    "#for line in lines:\n",
    "#    print line"
   ]
  },
  {
   "cell_type": "code",
   "execution_count": 95,
   "metadata": {
    "collapsed": false
   },
   "outputs": [
    {
     "data": {
      "text/plain": [
       "(84, 234)"
      ]
     },
     "execution_count": 95,
     "metadata": {},
     "output_type": "execute_result"
    }
   ],
   "source": [
    "from sklearn.feature_extraction.text import TfidfVectorizer, CountVectorizer\n",
    "from sklearn.feature_extraction import text \n",
    "\n",
    "my_stop_words = text.ENGLISH_STOP_WORDS.union(['image', 'thumbnail', 'video', 'im', 'ive', 'ill', 'vladimirjornitski', '11', 'bradsiefert'])\n",
    "#print my_stop_words\n",
    "tfidf_vectorizer = TfidfVectorizer(stop_words=my_stop_words)\n",
    "\n",
    "tfidf = tfidf_vectorizer.fit_transform(docs['Brad Siefert'])\n",
    "\n",
    "#print docs['Eddie VanBogaert'][122]\n",
    "#print tfidf.toarray()[122]\n",
    "#print tfidf_vectorizer.get_feature_names()\n",
    "tfidf.shape"
   ]
  },
  {
   "cell_type": "code",
   "execution_count": 96,
   "metadata": {
    "collapsed": false
   },
   "outputs": [
    {
     "name": "stdout",
     "output_type": "stream",
     "text": [
      "(84, 2)\n",
      "234\n",
      "(2, 234)\n"
     ]
    }
   ],
   "source": [
    "from sklearn.decomposition import TruncatedSVD\n",
    "from sklearn.preprocessing import Normalizer\n",
    "\n",
    "lsa = TruncatedSVD(2, algorithm = 'randomized')\n",
    "dtm_lsa = lsa.fit_transform(tfidf)\n",
    "dtm_lsa = Normalizer(copy=False).fit_transform(dtm_lsa)\n",
    "\n",
    "print dtm_lsa.shape\n",
    "print len(tfidf_vectorizer.get_feature_names())\n",
    "print lsa.components_.shape"
   ]
  },
  {
   "cell_type": "code",
   "execution_count": 97,
   "metadata": {
    "collapsed": false
   },
   "outputs": [
    {
     "name": "stdout",
     "output_type": "stream",
     "text": [
      "Concept 0: \n",
      "cool\n",
      "totally\n",
      "ipad\n",
      "send\n",
      "right\n",
      "lolz\n",
      "incredible\n",
      "twitter\n",
      "integrations\n",
      "aug12\n",
      "\n",
      "\n",
      "Concept 1: \n",
      "link\n",
      "just\n",
      "eb\n",
      "cool\n",
      "headshots\n",
      "website\n",
      "broken\n",
      "code\n",
      "head\n",
      "file\n",
      "\n",
      "\n"
     ]
    }
   ],
   "source": [
    "#https://www.youtube.com/watch?v=BJ0MnawUpaU\n",
    "\n",
    "terms = tfidf_vectorizer.get_feature_names()\n",
    "for i, comp in enumerate(lsa.components_):\n",
    "    comp_terms = zip(terms, comp)\n",
    "    sorted_terms = sorted(comp_terms, key= lambda x: x[1], reverse=True)[:10]\n",
    "    print \"Concept %d: \"%i\n",
    "    for term in sorted_terms:\n",
    "        print term[0]\n",
    "    print \"\\n\""
   ]
  },
  {
   "cell_type": "code",
   "execution_count": null,
   "metadata": {
    "collapsed": true
   },
   "outputs": [],
   "source": []
  }
 ],
 "metadata": {
  "kernelspec": {
   "display_name": "Python 2",
   "language": "python",
   "name": "python2"
  },
  "language_info": {
   "codemirror_mode": {
    "name": "ipython",
    "version": 2
   },
   "file_extension": ".py",
   "mimetype": "text/x-python",
   "name": "python",
   "nbconvert_exporter": "python",
   "pygments_lexer": "ipython2",
   "version": "2.7.6"
  }
 },
 "nbformat": 4,
 "nbformat_minor": 0
}
