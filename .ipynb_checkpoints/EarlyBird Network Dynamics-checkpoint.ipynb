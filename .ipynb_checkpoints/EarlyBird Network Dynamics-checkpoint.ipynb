{
 "cells": [
  {
   "cell_type": "code",
   "execution_count": 22,
   "metadata": {
    "collapsed": false
   },
   "outputs": [],
   "source": [
    "%matplotlib inline\n",
    "import numpy as np\n",
    "from sklearn.preprocessing import normalize\n",
    "from scipy.cluster.hierarchy import dendrogram, linkage\n",
    "from matplotlib import pyplot as plt\n",
    "np.set_printoptions(precision=5, suppress=True)  # suppress scientific float notation\n",
    "names = np.array(['Boaz', 'Parnell', 'Eddie', 'Rich', 'Vlad', 'Brad', 'Kris'])\n",
    "def normalize(mat):\n",
    "    new_mat = []\n",
    "    for row in mat:\n",
    "        s = float(np.sum(row))\n",
    "        new_row = [x/s for x in row]\n",
    "        new_mat.append(new_row)\n",
    "    return np.array(new_mat, float)\n",
    "def set_zero_diag(mat):\n",
    "    for i in range(len(mat)):\n",
    "        for j in range(len(mat[i])):\n",
    "            if j == i:\n",
    "                mat[i][j] = 0\n",
    "    return mat"
   ]
  },
  {
   "cell_type": "code",
   "execution_count": 23,
   "metadata": {
    "collapsed": false
   },
   "outputs": [
    {
     "name": "stdout",
     "output_type": "stream",
     "text": [
      "[[ 0  9 17 14  4 28 19]\n",
      " [14  0  9  4  8 33 33]\n",
      " [20 13  0  3 27 31 26]\n",
      " [18  5 17  0 33 26 32]\n",
      " [12 21 20 23  0 29  0]\n",
      " [17 24 10  0 24  0 17]\n",
      " [11 25  2 27 18 27  0]]\n"
     ]
    }
   ],
   "source": [
    "#a = np.array([[1,2], [3,4]], float)\n",
    "chats = np.random.randint(35, size=(7,7))\n",
    "chats = set_zero_diag(chats)\n",
    "print (chats)"
   ]
  },
  {
   "cell_type": "code",
   "execution_count": 24,
   "metadata": {
    "collapsed": false
   },
   "outputs": [
    {
     "name": "stdout",
     "output_type": "stream",
     "text": [
      "[[ 0.       0.0989   0.18681  0.15385  0.04396  0.30769  0.20879]\n",
      " [ 0.13861  0.       0.08911  0.0396   0.07921  0.32673  0.32673]\n",
      " [ 0.16667  0.10833  0.       0.025    0.225    0.25833  0.21667]\n",
      " [ 0.1374   0.03817  0.12977  0.       0.25191  0.19847  0.24427]\n",
      " [ 0.11429  0.2      0.19048  0.21905  0.       0.27619  0.     ]\n",
      " [ 0.18478  0.26087  0.1087   0.       0.26087  0.       0.18478]\n",
      " [ 0.1      0.22727  0.01818  0.24545  0.16364  0.24545  0.     ]]\n"
     ]
    }
   ],
   "source": [
    "norm_chats = normalize(chats)\n",
    "#norm_chats = norm_chats.transpose()\n",
    "print (norm_chats)\n"
   ]
  },
  {
   "cell_type": "code",
   "execution_count": 27,
   "metadata": {
    "collapsed": false
   },
   "outputs": [
    {
     "name": "stdout",
     "output_type": "stream",
     "text": [
      "(1+0j)\n",
      "('Eddie', (-0.47404565138063653-0.050568059889229799j))\n",
      "('Parnell', (-0.47404565138063653+0.050568059889229799j))\n",
      "('Boaz', (-0.37796447300922714+0j))\n",
      "('Kris', (-0.28819415997072134+0j))\n",
      "('Vlad', (-0.085162918425588777-0.094524057372389725j))\n",
      "('Rich', (-0.085162918425588777+0.094524057372389725j))\n",
      "('Brad', (0.89560411055327938+0j))\n"
     ]
    }
   ],
   "source": [
    "vals, vecs = np.linalg.eig(norm_chats)\n",
    "print vals[0]\n",
    "eig_names = [(names[i], vecs[0][i]) for i in range(len(names))]\n",
    "sorted_names = sorted(eig_names, key=lambda x: x[1])\n",
    "for n in sorted_names:\n",
    "    print n"
   ]
  },
  {
   "cell_type": "code",
   "execution_count": 29,
   "metadata": {
    "collapsed": false
   },
   "outputs": [
    {
     "data": {
      "text/plain": [
       "array([[ 0, 14, 20, 18, 12, 17, 11],\n",
       "       [ 9,  0, 13,  5, 21, 24, 25],\n",
       "       [17,  9,  0, 17, 20, 10,  2],\n",
       "       [14,  4,  3,  0, 23,  0, 27],\n",
       "       [ 4,  8, 27, 33,  0, 24, 18],\n",
       "       [28, 33, 31, 26, 29,  0, 27],\n",
       "       [19, 33, 26, 32,  0, 17,  0]])"
      ]
     },
     "execution_count": 29,
     "metadata": {},
     "output_type": "execute_result"
    }
   ],
   "source": [
    "chats_given = chats.transpose()\n",
    "chats_given"
   ]
  },
  {
   "cell_type": "code",
   "execution_count": 42,
   "metadata": {
    "collapsed": false
   },
   "outputs": [
    {
     "data": {
      "text/plain": [
       "array([[  2.     ,   3.     ,  21.51743,   2.     ],\n",
       "       [  0.     ,   1.     ,  26.03843,   2.     ],\n",
       "       [  4.     ,   6.     ,  26.1725 ,   2.     ],\n",
       "       [  7.     ,   8.     ,  32.91245,   4.     ],\n",
       "       [  5.     ,  10.     ,  41.07511,   5.     ],\n",
       "       [  9.     ,  11.     ,  44.50826,   7.     ]])"
      ]
     },
     "execution_count": 42,
     "metadata": {},
     "output_type": "execute_result"
    }
   ],
   "source": [
    "Z = linkage(chats, 'average')\n",
    "Z"
   ]
  },
  {
   "cell_type": "code",
   "execution_count": 43,
   "metadata": {
    "collapsed": false
   },
   "outputs": [
    {
     "data": {
      "text/plain": [
       "0.76327347473496843"
      ]
     },
     "execution_count": 43,
     "metadata": {},
     "output_type": "execute_result"
    }
   ],
   "source": [
    "from scipy.cluster.hierarchy import cophenet\n",
    "from scipy.spatial.distance import pdist\n",
    "\n",
    "c, coph_dists = cophenet(Z, pdist(chats))\n",
    "c"
   ]
  },
  {
   "cell_type": "code",
   "execution_count": 46,
   "metadata": {
    "collapsed": false
   },
   "outputs": [
    {
     "name": "stdout",
     "output_type": "stream",
     "text": [
      "[[  2.        3.       21.51743   2.     ]\n",
      " [  0.        1.       26.03843   2.     ]\n",
      " [  4.        6.       26.1725    2.     ]\n",
      " [  7.        8.       32.91245   4.     ]\n",
      " [  5.       10.       41.07511   5.     ]\n",
      " [  9.       11.       44.50826   7.     ]]\n"
     ]
    },
    {
     "data": {
      "image/png": "[encoded data removed]",
      "text/plain": [
       "<matplotlib.figure.Figure at 0x114dcc150>"
      ]
     },
     "metadata": {},
     "output_type": "display_data"
    }
   ],
   "source": [
    "print(Z)\n",
    "# calculate full dendrogram\n",
    "plt.figure(figsize=(25, 10))\n",
    "plt.title('Hierarchical Clustering Dendrogram')\n",
    "plt.xlabel('sample index')\n",
    "plt.ylabel('distance')\n",
    "dendrogram(\n",
    "    Z,\n",
    "    leaf_rotation=90.,  # rotates the x axis labels\n",
    "    leaf_font_size=8.,  # font size for the x axis labels\n",
    "    labels=names\n",
    ")\n",
    "plt.show()"
   ]
  },
  {
   "cell_type": "code",
   "execution_count": 2,
   "metadata": {
    "collapsed": false
   },
   "outputs": [
    {
     "data": {
      "text/plain": [
       "<networkx.classes.graph.Graph at 0x1065fb850>"
      ]
     },
     "execution_count": 2,
     "metadata": {},
     "output_type": "execute_result"
    }
   ],
   "source": [
    "#http://networkx.github.io/examples.html\n",
    "import networkx as nx\n",
    "G=nx.Graph()\n",
    "G\n",
    "\n"
   ]
  },
  {
   "cell_type": "code",
   "execution_count": null,
   "metadata": {
    "collapsed": true
   },
   "outputs": [],
   "source": []
  }
 ],
 "metadata": {
  "kernelspec": {
   "display_name": "Python 2",
   "language": "python",
   "name": "python2"
  },
  "language_info": {
   "codemirror_mode": {
    "name": "ipython",
    "version": 2
   },
   "file_extension": ".py",
   "mimetype": "text/x-python",
   "name": "python",
   "nbconvert_exporter": "python",
   "pygments_lexer": "ipython2",
   "version": "2.7.6"
  }
 },
 "nbformat": 4,
 "nbformat_minor": 0
}
