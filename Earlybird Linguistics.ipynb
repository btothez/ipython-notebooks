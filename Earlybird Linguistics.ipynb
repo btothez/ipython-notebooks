{
 "cells": [
  {
   "cell_type": "code",
   "execution_count": null,
   "metadata": {
    "collapsed": true
   },
   "outputs": [],
   "source": [
    "\"\"\"Divide Lines up into each individual's corpus TfIdf-Vectorize this and eventually run LSA \"\"\"\n",
    "\n",
    "%matplotlib inline\n",
    "import numpy as np\n",
    "from sklearn.preprocessing import normalize\n",
    "from scipy.cluster.hierarchy import dendrogram, linkage\n",
    "from matplotlib import pyplot as plt\n",
    "import re\n",
    "import collections\n",
    "import packages.helpers as hlp\n",
    "\n",
    "from IPython.core.pylabtools import figsize\n",
    "from matplotlib import pyplot as plt\n",
    "import pymc as pm\n",
    "\n",
    "names = ['Kris Kroski', 'Eddie VanBogaert', 'Boaz Reisman', 'Brad Siefert', 'Kyle Gilbert', 'Richard Hankison', \n",
    "         'Vladimir Jornitski', 'Rachel Schneebaum', 'Frank Korf', 'Andrew Parnell']\n"
   ]
  }
 ],
 "metadata": {
  "kernelspec": {
   "display_name": "Python 2",
   "language": "python",
   "name": "python2"
  },
  "language_info": {
   "codemirror_mode": {
    "name": "ipython",
    "version": 2
   },
   "file_extension": ".py",
   "mimetype": "text/x-python",
   "name": "python",
   "nbconvert_exporter": "python",
   "pygments_lexer": "ipython2",
   "version": "2.7.6"
  }
 },
 "nbformat": 4,
 "nbformat_minor": 0
}
